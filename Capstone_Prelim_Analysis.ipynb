{
 "cells": [
  {
   "cell_type": "markdown",
   "metadata": {
    "editable": true
   },
   "source": [
    "# Project Title\n",
    "### Data Engineering Capstone Project\n",
    "\n",
    "#### Project Summary\n",
    "--describe your project at a high level--\n",
    "\n",
    "The project follows the follow steps:\n",
    "* Step 1: Scope the Project and Gather Data\n",
    "* Step 2: Explore and Assess the Data\n",
    "* Step 3: Define the Data Model\n",
    "* Step 4: Run ETL to Model the Data\n",
    "* Step 5: Complete Project Write Up"
   ]
  },
  {
   "cell_type": "code",
   "execution_count": 1,
   "metadata": {
    "editable": true
   },
   "outputs": [],
   "source": [
    "# Import packages\n",
    "from pyspark.sql import SparkSession\n",
    "from pyspark.sql.functions import udf, col\n",
    "from pyspark.sql.functions import year, month, dayofmonth, hour, weekofyear, date_format\n",
    "from pyspark.sql.types import StructType, StructField, DoubleType, StringType, IntegerType, DateType, TimestampType\n",
    "\n",
    "from datetime import datetime, timedelta\n",
    "import pandas as pd\n",
    "import numpy as np\n",
    "from collections import OrderedDict\n",
    "import psycopg2\n",
    "\n",
    "# Set defaults\n",
    "pd.set_option(\"max_rows\", 1000)\n",
    "pd.set_option(\"max_columns\", 1000)"
   ]
  },
  {
   "cell_type": "markdown",
   "metadata": {
    "editable": true
   },
   "source": [
    "### Step 1: Scope the Project and Gather Data\n",
    "\n",
    "#### Scope \n",
    "Explain what you plan to do in the project in more detail. What data do you use? What is your end solution look like? What tools did you use? etc>\n",
    "\n",
    "#### Describe and Gather Data \n",
    "Describe the data sets you're using. Where did it come from? What type of information is included? "
   ]
  },
  {
   "cell_type": "code",
   "execution_count": 2,
   "metadata": {
    "editable": true
   },
   "outputs": [],
   "source": [
    "# Build spark session\n",
    "spark = SparkSession.builder.config(\"spark.jars.packages\",\"saurfang:spark-sas7bdat:2.0.0-s_2.11\")\\\n",
    "                    .enableHiveSupport().getOrCreate()\n",
    "\n",
    "# Read only 1 file of the immigration dataset to keep the size easy to work with\n",
    "fpath = '../../data/18-83510-I94-Data-2016/i94_apr16_sub.sas7bdat'\n",
    "im_df = spark.read.format('com.github.saurfang.sas.spark').load(fpath,forceLowercaseNames=True).limit(1000)\n",
    "im_df = im_df.toPandas()\n",
    "\n",
    "# Read remaining datasets\n",
    "airport_df = pd.read_csv('airport-codes_csv.csv', nrows=1000)\n",
    "city_df = pd.read_csv('us-cities-demographics.csv', delimiter=';', nrows=1000)"
   ]
  },
  {
   "cell_type": "code",
   "execution_count": 3,
   "metadata": {
    "editable": true
   },
   "outputs": [
    {
     "data": {
      "text/html": [
       "<div>\n",
       "<style scoped>\n",
       "    .dataframe tbody tr th:only-of-type {\n",
       "        vertical-align: middle;\n",
       "    }\n",
       "\n",
       "    .dataframe tbody tr th {\n",
       "        vertical-align: top;\n",
       "    }\n",
       "\n",
       "    .dataframe thead th {\n",
       "        text-align: right;\n",
       "    }\n",
       "</style>\n",
       "<table border=\"1\" class=\"dataframe\">\n",
       "  <thead>\n",
       "    <tr style=\"text-align: right;\">\n",
       "      <th></th>\n",
       "      <th>cicid</th>\n",
       "      <th>i94yr</th>\n",
       "      <th>i94mon</th>\n",
       "      <th>i94cit</th>\n",
       "      <th>i94res</th>\n",
       "      <th>i94port</th>\n",
       "      <th>arrdate</th>\n",
       "      <th>i94mode</th>\n",
       "      <th>i94addr</th>\n",
       "      <th>depdate</th>\n",
       "      <th>i94bir</th>\n",
       "      <th>i94visa</th>\n",
       "      <th>count</th>\n",
       "      <th>dtadfile</th>\n",
       "      <th>visapost</th>\n",
       "      <th>occup</th>\n",
       "      <th>entdepa</th>\n",
       "      <th>entdepd</th>\n",
       "      <th>entdepu</th>\n",
       "      <th>matflag</th>\n",
       "      <th>biryear</th>\n",
       "      <th>dtaddto</th>\n",
       "      <th>gender</th>\n",
       "      <th>insnum</th>\n",
       "      <th>airline</th>\n",
       "      <th>admnum</th>\n",
       "      <th>fltno</th>\n",
       "      <th>visatype</th>\n",
       "    </tr>\n",
       "  </thead>\n",
       "  <tbody>\n",
       "    <tr>\n",
       "      <th>0</th>\n",
       "      <td>6.0</td>\n",
       "      <td>2016.0</td>\n",
       "      <td>4.0</td>\n",
       "      <td>692.0</td>\n",
       "      <td>692.0</td>\n",
       "      <td>XXX</td>\n",
       "      <td>20573.0</td>\n",
       "      <td>NaN</td>\n",
       "      <td>None</td>\n",
       "      <td>NaN</td>\n",
       "      <td>37.0</td>\n",
       "      <td>2.0</td>\n",
       "      <td>1.0</td>\n",
       "      <td>None</td>\n",
       "      <td>None</td>\n",
       "      <td>None</td>\n",
       "      <td>T</td>\n",
       "      <td>None</td>\n",
       "      <td>U</td>\n",
       "      <td>None</td>\n",
       "      <td>1979.0</td>\n",
       "      <td>10282016</td>\n",
       "      <td>None</td>\n",
       "      <td>None</td>\n",
       "      <td>None</td>\n",
       "      <td>1.897628e+09</td>\n",
       "      <td>None</td>\n",
       "      <td>B2</td>\n",
       "    </tr>\n",
       "    <tr>\n",
       "      <th>1</th>\n",
       "      <td>7.0</td>\n",
       "      <td>2016.0</td>\n",
       "      <td>4.0</td>\n",
       "      <td>254.0</td>\n",
       "      <td>276.0</td>\n",
       "      <td>ATL</td>\n",
       "      <td>20551.0</td>\n",
       "      <td>1.0</td>\n",
       "      <td>AL</td>\n",
       "      <td>NaN</td>\n",
       "      <td>25.0</td>\n",
       "      <td>3.0</td>\n",
       "      <td>1.0</td>\n",
       "      <td>20130811</td>\n",
       "      <td>SEO</td>\n",
       "      <td>None</td>\n",
       "      <td>G</td>\n",
       "      <td>None</td>\n",
       "      <td>Y</td>\n",
       "      <td>None</td>\n",
       "      <td>1991.0</td>\n",
       "      <td>D/S</td>\n",
       "      <td>M</td>\n",
       "      <td>None</td>\n",
       "      <td>None</td>\n",
       "      <td>3.736796e+09</td>\n",
       "      <td>00296</td>\n",
       "      <td>F1</td>\n",
       "    </tr>\n",
       "    <tr>\n",
       "      <th>2</th>\n",
       "      <td>15.0</td>\n",
       "      <td>2016.0</td>\n",
       "      <td>4.0</td>\n",
       "      <td>101.0</td>\n",
       "      <td>101.0</td>\n",
       "      <td>WAS</td>\n",
       "      <td>20545.0</td>\n",
       "      <td>1.0</td>\n",
       "      <td>MI</td>\n",
       "      <td>20691.0</td>\n",
       "      <td>55.0</td>\n",
       "      <td>2.0</td>\n",
       "      <td>1.0</td>\n",
       "      <td>20160401</td>\n",
       "      <td>None</td>\n",
       "      <td>None</td>\n",
       "      <td>T</td>\n",
       "      <td>O</td>\n",
       "      <td>None</td>\n",
       "      <td>M</td>\n",
       "      <td>1961.0</td>\n",
       "      <td>09302016</td>\n",
       "      <td>M</td>\n",
       "      <td>None</td>\n",
       "      <td>OS</td>\n",
       "      <td>6.666432e+08</td>\n",
       "      <td>93</td>\n",
       "      <td>B2</td>\n",
       "    </tr>\n",
       "    <tr>\n",
       "      <th>3</th>\n",
       "      <td>16.0</td>\n",
       "      <td>2016.0</td>\n",
       "      <td>4.0</td>\n",
       "      <td>101.0</td>\n",
       "      <td>101.0</td>\n",
       "      <td>NYC</td>\n",
       "      <td>20545.0</td>\n",
       "      <td>1.0</td>\n",
       "      <td>MA</td>\n",
       "      <td>20567.0</td>\n",
       "      <td>28.0</td>\n",
       "      <td>2.0</td>\n",
       "      <td>1.0</td>\n",
       "      <td>20160401</td>\n",
       "      <td>None</td>\n",
       "      <td>None</td>\n",
       "      <td>O</td>\n",
       "      <td>O</td>\n",
       "      <td>None</td>\n",
       "      <td>M</td>\n",
       "      <td>1988.0</td>\n",
       "      <td>09302016</td>\n",
       "      <td>None</td>\n",
       "      <td>None</td>\n",
       "      <td>AA</td>\n",
       "      <td>9.246846e+10</td>\n",
       "      <td>00199</td>\n",
       "      <td>B2</td>\n",
       "    </tr>\n",
       "    <tr>\n",
       "      <th>4</th>\n",
       "      <td>17.0</td>\n",
       "      <td>2016.0</td>\n",
       "      <td>4.0</td>\n",
       "      <td>101.0</td>\n",
       "      <td>101.0</td>\n",
       "      <td>NYC</td>\n",
       "      <td>20545.0</td>\n",
       "      <td>1.0</td>\n",
       "      <td>MA</td>\n",
       "      <td>20567.0</td>\n",
       "      <td>4.0</td>\n",
       "      <td>2.0</td>\n",
       "      <td>1.0</td>\n",
       "      <td>20160401</td>\n",
       "      <td>None</td>\n",
       "      <td>None</td>\n",
       "      <td>O</td>\n",
       "      <td>O</td>\n",
       "      <td>None</td>\n",
       "      <td>M</td>\n",
       "      <td>2012.0</td>\n",
       "      <td>09302016</td>\n",
       "      <td>None</td>\n",
       "      <td>None</td>\n",
       "      <td>AA</td>\n",
       "      <td>9.246846e+10</td>\n",
       "      <td>00199</td>\n",
       "      <td>B2</td>\n",
       "    </tr>\n",
       "  </tbody>\n",
       "</table>\n",
       "</div>"
      ],
      "text/plain": [
       "   cicid   i94yr  i94mon  i94cit  i94res i94port  arrdate  i94mode i94addr  \\\n",
       "0    6.0  2016.0     4.0   692.0   692.0     XXX  20573.0      NaN    None   \n",
       "1    7.0  2016.0     4.0   254.0   276.0     ATL  20551.0      1.0      AL   \n",
       "2   15.0  2016.0     4.0   101.0   101.0     WAS  20545.0      1.0      MI   \n",
       "3   16.0  2016.0     4.0   101.0   101.0     NYC  20545.0      1.0      MA   \n",
       "4   17.0  2016.0     4.0   101.0   101.0     NYC  20545.0      1.0      MA   \n",
       "\n",
       "   depdate  i94bir  i94visa  count  dtadfile visapost occup entdepa entdepd  \\\n",
       "0      NaN    37.0      2.0    1.0      None     None  None       T    None   \n",
       "1      NaN    25.0      3.0    1.0  20130811      SEO  None       G    None   \n",
       "2  20691.0    55.0      2.0    1.0  20160401     None  None       T       O   \n",
       "3  20567.0    28.0      2.0    1.0  20160401     None  None       O       O   \n",
       "4  20567.0     4.0      2.0    1.0  20160401     None  None       O       O   \n",
       "\n",
       "  entdepu matflag  biryear   dtaddto gender insnum airline        admnum  \\\n",
       "0       U    None   1979.0  10282016   None   None    None  1.897628e+09   \n",
       "1       Y    None   1991.0       D/S      M   None    None  3.736796e+09   \n",
       "2    None       M   1961.0  09302016      M   None      OS  6.666432e+08   \n",
       "3    None       M   1988.0  09302016   None   None      AA  9.246846e+10   \n",
       "4    None       M   2012.0  09302016   None   None      AA  9.246846e+10   \n",
       "\n",
       "   fltno visatype  \n",
       "0   None       B2  \n",
       "1  00296       F1  \n",
       "2     93       B2  \n",
       "3  00199       B2  \n",
       "4  00199       B2  "
      ]
     },
     "execution_count": 3,
     "metadata": {},
     "output_type": "execute_result"
    }
   ],
   "source": [
    "# Evaluate immigration import\n",
    "im_df.head()"
   ]
  },
  {
   "cell_type": "code",
   "execution_count": 4,
   "metadata": {
    "editable": true
   },
   "outputs": [
    {
     "data": {
      "text/html": [
       "<div>\n",
       "<style scoped>\n",
       "    .dataframe tbody tr th:only-of-type {\n",
       "        vertical-align: middle;\n",
       "    }\n",
       "\n",
       "    .dataframe tbody tr th {\n",
       "        vertical-align: top;\n",
       "    }\n",
       "\n",
       "    .dataframe thead th {\n",
       "        text-align: right;\n",
       "    }\n",
       "</style>\n",
       "<table border=\"1\" class=\"dataframe\">\n",
       "  <thead>\n",
       "    <tr style=\"text-align: right;\">\n",
       "      <th></th>\n",
       "      <th>cicid</th>\n",
       "      <th>i94yr</th>\n",
       "      <th>i94mon</th>\n",
       "      <th>i94cit</th>\n",
       "      <th>i94res</th>\n",
       "      <th>arrdate</th>\n",
       "      <th>i94mode</th>\n",
       "      <th>depdate</th>\n",
       "      <th>i94bir</th>\n",
       "      <th>i94visa</th>\n",
       "      <th>count</th>\n",
       "      <th>biryear</th>\n",
       "      <th>admnum</th>\n",
       "    </tr>\n",
       "  </thead>\n",
       "  <tbody>\n",
       "    <tr>\n",
       "      <th>count</th>\n",
       "      <td>1000.000000</td>\n",
       "      <td>1000.0</td>\n",
       "      <td>1000.0</td>\n",
       "      <td>1000.00000</td>\n",
       "      <td>1000.000000</td>\n",
       "      <td>1000.000000</td>\n",
       "      <td>999.000000</td>\n",
       "      <td>958.000000</td>\n",
       "      <td>1000.00000</td>\n",
       "      <td>1000.000000</td>\n",
       "      <td>1000.0</td>\n",
       "      <td>1000.00000</td>\n",
       "      <td>1.000000e+03</td>\n",
       "    </tr>\n",
       "    <tr>\n",
       "      <th>mean</th>\n",
       "      <td>587.550000</td>\n",
       "      <td>2016.0</td>\n",
       "      <td>4.0</td>\n",
       "      <td>104.01100</td>\n",
       "      <td>115.215000</td>\n",
       "      <td>20545.034000</td>\n",
       "      <td>1.007007</td>\n",
       "      <td>20557.148225</td>\n",
       "      <td>39.08800</td>\n",
       "      <td>1.876000</td>\n",
       "      <td>1.0</td>\n",
       "      <td>1976.91200</td>\n",
       "      <td>5.735365e+10</td>\n",
       "    </tr>\n",
       "    <tr>\n",
       "      <th>std</th>\n",
       "      <td>336.493741</td>\n",
       "      <td>0.0</td>\n",
       "      <td>0.0</td>\n",
       "      <td>19.22359</td>\n",
       "      <td>68.854758</td>\n",
       "      <td>0.905353</td>\n",
       "      <td>0.083456</td>\n",
       "      <td>17.152368</td>\n",
       "      <td>16.66259</td>\n",
       "      <td>0.350352</td>\n",
       "      <td>0.0</td>\n",
       "      <td>16.66259</td>\n",
       "      <td>1.105955e+10</td>\n",
       "    </tr>\n",
       "    <tr>\n",
       "      <th>min</th>\n",
       "      <td>6.000000</td>\n",
       "      <td>2016.0</td>\n",
       "      <td>4.0</td>\n",
       "      <td>101.00000</td>\n",
       "      <td>101.000000</td>\n",
       "      <td>20545.000000</td>\n",
       "      <td>1.000000</td>\n",
       "      <td>20546.000000</td>\n",
       "      <td>0.00000</td>\n",
       "      <td>1.000000</td>\n",
       "      <td>1.0</td>\n",
       "      <td>1932.00000</td>\n",
       "      <td>6.649566e+08</td>\n",
       "    </tr>\n",
       "    <tr>\n",
       "      <th>25%</th>\n",
       "      <td>294.750000</td>\n",
       "      <td>2016.0</td>\n",
       "      <td>4.0</td>\n",
       "      <td>103.00000</td>\n",
       "      <td>103.000000</td>\n",
       "      <td>20545.000000</td>\n",
       "      <td>1.000000</td>\n",
       "      <td>20550.000000</td>\n",
       "      <td>27.00000</td>\n",
       "      <td>2.000000</td>\n",
       "      <td>1.0</td>\n",
       "      <td>1965.00000</td>\n",
       "      <td>5.542676e+10</td>\n",
       "    </tr>\n",
       "    <tr>\n",
       "      <th>50%</th>\n",
       "      <td>565.500000</td>\n",
       "      <td>2016.0</td>\n",
       "      <td>4.0</td>\n",
       "      <td>103.00000</td>\n",
       "      <td>103.000000</td>\n",
       "      <td>20545.000000</td>\n",
       "      <td>1.000000</td>\n",
       "      <td>20553.000000</td>\n",
       "      <td>39.00000</td>\n",
       "      <td>2.000000</td>\n",
       "      <td>1.0</td>\n",
       "      <td>1977.00000</td>\n",
       "      <td>5.543622e+10</td>\n",
       "    </tr>\n",
       "    <tr>\n",
       "      <th>75%</th>\n",
       "      <td>903.250000</td>\n",
       "      <td>2016.0</td>\n",
       "      <td>4.0</td>\n",
       "      <td>104.00000</td>\n",
       "      <td>104.000000</td>\n",
       "      <td>20545.000000</td>\n",
       "      <td>1.000000</td>\n",
       "      <td>20559.000000</td>\n",
       "      <td>51.00000</td>\n",
       "      <td>2.000000</td>\n",
       "      <td>1.0</td>\n",
       "      <td>1989.00000</td>\n",
       "      <td>5.544390e+10</td>\n",
       "    </tr>\n",
       "    <tr>\n",
       "      <th>max</th>\n",
       "      <td>1159.000000</td>\n",
       "      <td>2016.0</td>\n",
       "      <td>4.0</td>\n",
       "      <td>692.00000</td>\n",
       "      <td>692.000000</td>\n",
       "      <td>20573.000000</td>\n",
       "      <td>2.000000</td>\n",
       "      <td>20698.000000</td>\n",
       "      <td>84.00000</td>\n",
       "      <td>3.000000</td>\n",
       "      <td>1.0</td>\n",
       "      <td>2016.00000</td>\n",
       "      <td>9.251028e+10</td>\n",
       "    </tr>\n",
       "  </tbody>\n",
       "</table>\n",
       "</div>"
      ],
      "text/plain": [
       "             cicid   i94yr  i94mon      i94cit       i94res       arrdate  \\\n",
       "count  1000.000000  1000.0  1000.0  1000.00000  1000.000000   1000.000000   \n",
       "mean    587.550000  2016.0     4.0   104.01100   115.215000  20545.034000   \n",
       "std     336.493741     0.0     0.0    19.22359    68.854758      0.905353   \n",
       "min       6.000000  2016.0     4.0   101.00000   101.000000  20545.000000   \n",
       "25%     294.750000  2016.0     4.0   103.00000   103.000000  20545.000000   \n",
       "50%     565.500000  2016.0     4.0   103.00000   103.000000  20545.000000   \n",
       "75%     903.250000  2016.0     4.0   104.00000   104.000000  20545.000000   \n",
       "max    1159.000000  2016.0     4.0   692.00000   692.000000  20573.000000   \n",
       "\n",
       "          i94mode       depdate      i94bir      i94visa   count     biryear  \\\n",
       "count  999.000000    958.000000  1000.00000  1000.000000  1000.0  1000.00000   \n",
       "mean     1.007007  20557.148225    39.08800     1.876000     1.0  1976.91200   \n",
       "std      0.083456     17.152368    16.66259     0.350352     0.0    16.66259   \n",
       "min      1.000000  20546.000000     0.00000     1.000000     1.0  1932.00000   \n",
       "25%      1.000000  20550.000000    27.00000     2.000000     1.0  1965.00000   \n",
       "50%      1.000000  20553.000000    39.00000     2.000000     1.0  1977.00000   \n",
       "75%      1.000000  20559.000000    51.00000     2.000000     1.0  1989.00000   \n",
       "max      2.000000  20698.000000    84.00000     3.000000     1.0  2016.00000   \n",
       "\n",
       "             admnum  \n",
       "count  1.000000e+03  \n",
       "mean   5.735365e+10  \n",
       "std    1.105955e+10  \n",
       "min    6.649566e+08  \n",
       "25%    5.542676e+10  \n",
       "50%    5.543622e+10  \n",
       "75%    5.544390e+10  \n",
       "max    9.251028e+10  "
      ]
     },
     "execution_count": 4,
     "metadata": {},
     "output_type": "execute_result"
    }
   ],
   "source": [
    "im_df.describe()"
   ]
  },
  {
   "cell_type": "code",
   "execution_count": 5,
   "metadata": {
    "editable": true
   },
   "outputs": [
    {
     "data": {
      "text/html": [
       "<div>\n",
       "<style scoped>\n",
       "    .dataframe tbody tr th:only-of-type {\n",
       "        vertical-align: middle;\n",
       "    }\n",
       "\n",
       "    .dataframe tbody tr th {\n",
       "        vertical-align: top;\n",
       "    }\n",
       "\n",
       "    .dataframe thead th {\n",
       "        text-align: right;\n",
       "    }\n",
       "</style>\n",
       "<table border=\"1\" class=\"dataframe\">\n",
       "  <thead>\n",
       "    <tr style=\"text-align: right;\">\n",
       "      <th></th>\n",
       "      <th>City</th>\n",
       "      <th>State</th>\n",
       "      <th>Median Age</th>\n",
       "      <th>Male Population</th>\n",
       "      <th>Female Population</th>\n",
       "      <th>Total Population</th>\n",
       "      <th>Number of Veterans</th>\n",
       "      <th>Foreign-born</th>\n",
       "      <th>Average Household Size</th>\n",
       "      <th>State Code</th>\n",
       "      <th>Race</th>\n",
       "      <th>Count</th>\n",
       "    </tr>\n",
       "  </thead>\n",
       "  <tbody>\n",
       "    <tr>\n",
       "      <th>0</th>\n",
       "      <td>Silver Spring</td>\n",
       "      <td>Maryland</td>\n",
       "      <td>33.8</td>\n",
       "      <td>40601.0</td>\n",
       "      <td>41862.0</td>\n",
       "      <td>82463</td>\n",
       "      <td>1562.0</td>\n",
       "      <td>30908.0</td>\n",
       "      <td>2.60</td>\n",
       "      <td>MD</td>\n",
       "      <td>Hispanic or Latino</td>\n",
       "      <td>25924</td>\n",
       "    </tr>\n",
       "    <tr>\n",
       "      <th>1</th>\n",
       "      <td>Quincy</td>\n",
       "      <td>Massachusetts</td>\n",
       "      <td>41.0</td>\n",
       "      <td>44129.0</td>\n",
       "      <td>49500.0</td>\n",
       "      <td>93629</td>\n",
       "      <td>4147.0</td>\n",
       "      <td>32935.0</td>\n",
       "      <td>2.39</td>\n",
       "      <td>MA</td>\n",
       "      <td>White</td>\n",
       "      <td>58723</td>\n",
       "    </tr>\n",
       "    <tr>\n",
       "      <th>2</th>\n",
       "      <td>Hoover</td>\n",
       "      <td>Alabama</td>\n",
       "      <td>38.5</td>\n",
       "      <td>38040.0</td>\n",
       "      <td>46799.0</td>\n",
       "      <td>84839</td>\n",
       "      <td>4819.0</td>\n",
       "      <td>8229.0</td>\n",
       "      <td>2.58</td>\n",
       "      <td>AL</td>\n",
       "      <td>Asian</td>\n",
       "      <td>4759</td>\n",
       "    </tr>\n",
       "    <tr>\n",
       "      <th>3</th>\n",
       "      <td>Rancho Cucamonga</td>\n",
       "      <td>California</td>\n",
       "      <td>34.5</td>\n",
       "      <td>88127.0</td>\n",
       "      <td>87105.0</td>\n",
       "      <td>175232</td>\n",
       "      <td>5821.0</td>\n",
       "      <td>33878.0</td>\n",
       "      <td>3.18</td>\n",
       "      <td>CA</td>\n",
       "      <td>Black or African-American</td>\n",
       "      <td>24437</td>\n",
       "    </tr>\n",
       "    <tr>\n",
       "      <th>4</th>\n",
       "      <td>Newark</td>\n",
       "      <td>New Jersey</td>\n",
       "      <td>34.6</td>\n",
       "      <td>138040.0</td>\n",
       "      <td>143873.0</td>\n",
       "      <td>281913</td>\n",
       "      <td>5829.0</td>\n",
       "      <td>86253.0</td>\n",
       "      <td>2.73</td>\n",
       "      <td>NJ</td>\n",
       "      <td>White</td>\n",
       "      <td>76402</td>\n",
       "    </tr>\n",
       "  </tbody>\n",
       "</table>\n",
       "</div>"
      ],
      "text/plain": [
       "               City          State  Median Age  Male Population  \\\n",
       "0     Silver Spring       Maryland        33.8          40601.0   \n",
       "1            Quincy  Massachusetts        41.0          44129.0   \n",
       "2            Hoover        Alabama        38.5          38040.0   \n",
       "3  Rancho Cucamonga     California        34.5          88127.0   \n",
       "4            Newark     New Jersey        34.6         138040.0   \n",
       "\n",
       "   Female Population  Total Population  Number of Veterans  Foreign-born  \\\n",
       "0            41862.0             82463              1562.0       30908.0   \n",
       "1            49500.0             93629              4147.0       32935.0   \n",
       "2            46799.0             84839              4819.0        8229.0   \n",
       "3            87105.0            175232              5821.0       33878.0   \n",
       "4           143873.0            281913              5829.0       86253.0   \n",
       "\n",
       "   Average Household Size State Code                       Race  Count  \n",
       "0                    2.60         MD         Hispanic or Latino  25924  \n",
       "1                    2.39         MA                      White  58723  \n",
       "2                    2.58         AL                      Asian   4759  \n",
       "3                    3.18         CA  Black or African-American  24437  \n",
       "4                    2.73         NJ                      White  76402  "
      ]
     },
     "execution_count": 5,
     "metadata": {},
     "output_type": "execute_result"
    }
   ],
   "source": [
    "# Evaluate cities import\n",
    "city_df.head()"
   ]
  },
  {
   "cell_type": "code",
   "execution_count": 6,
   "metadata": {
    "editable": true
   },
   "outputs": [
    {
     "data": {
      "text/html": [
       "<div>\n",
       "<style scoped>\n",
       "    .dataframe tbody tr th:only-of-type {\n",
       "        vertical-align: middle;\n",
       "    }\n",
       "\n",
       "    .dataframe tbody tr th {\n",
       "        vertical-align: top;\n",
       "    }\n",
       "\n",
       "    .dataframe thead th {\n",
       "        text-align: right;\n",
       "    }\n",
       "</style>\n",
       "<table border=\"1\" class=\"dataframe\">\n",
       "  <thead>\n",
       "    <tr style=\"text-align: right;\">\n",
       "      <th></th>\n",
       "      <th>Median Age</th>\n",
       "      <th>Male Population</th>\n",
       "      <th>Female Population</th>\n",
       "      <th>Total Population</th>\n",
       "      <th>Number of Veterans</th>\n",
       "      <th>Foreign-born</th>\n",
       "      <th>Average Household Size</th>\n",
       "      <th>Count</th>\n",
       "    </tr>\n",
       "  </thead>\n",
       "  <tbody>\n",
       "    <tr>\n",
       "      <th>count</th>\n",
       "      <td>1000.000000</td>\n",
       "      <td>9.980000e+02</td>\n",
       "      <td>9.980000e+02</td>\n",
       "      <td>1.000000e+03</td>\n",
       "      <td>996.000000</td>\n",
       "      <td>9.960000e+02</td>\n",
       "      <td>994.000000</td>\n",
       "      <td>1.000000e+03</td>\n",
       "    </tr>\n",
       "    <tr>\n",
       "      <th>mean</th>\n",
       "      <td>35.566900</td>\n",
       "      <td>8.953580e+04</td>\n",
       "      <td>9.320766e+04</td>\n",
       "      <td>1.825231e+05</td>\n",
       "      <td>9095.504016</td>\n",
       "      <td>3.414385e+04</td>\n",
       "      <td>2.745392</td>\n",
       "      <td>4.799123e+04</td>\n",
       "    </tr>\n",
       "    <tr>\n",
       "      <th>std</th>\n",
       "      <td>4.583388</td>\n",
       "      <td>1.375867e+05</td>\n",
       "      <td>1.422165e+05</td>\n",
       "      <td>2.794854e+05</td>\n",
       "      <td>11577.450298</td>\n",
       "      <td>8.233672e+04</td>\n",
       "      <td>0.433821</td>\n",
       "      <td>1.227271e+05</td>\n",
       "    </tr>\n",
       "    <tr>\n",
       "      <th>min</th>\n",
       "      <td>22.900000</td>\n",
       "      <td>2.928100e+04</td>\n",
       "      <td>2.734800e+04</td>\n",
       "      <td>6.321500e+04</td>\n",
       "      <td>416.000000</td>\n",
       "      <td>1.058000e+03</td>\n",
       "      <td>2.000000</td>\n",
       "      <td>9.800000e+01</td>\n",
       "    </tr>\n",
       "    <tr>\n",
       "      <th>25%</th>\n",
       "      <td>32.800000</td>\n",
       "      <td>3.950400e+04</td>\n",
       "      <td>4.147500e+04</td>\n",
       "      <td>8.065300e+04</td>\n",
       "      <td>3666.750000</td>\n",
       "      <td>9.202000e+03</td>\n",
       "      <td>2.440000</td>\n",
       "      <td>3.602750e+03</td>\n",
       "    </tr>\n",
       "    <tr>\n",
       "      <th>50%</th>\n",
       "      <td>35.300000</td>\n",
       "      <td>5.097750e+04</td>\n",
       "      <td>5.273050e+04</td>\n",
       "      <td>1.037050e+05</td>\n",
       "      <td>5199.000000</td>\n",
       "      <td>1.845100e+04</td>\n",
       "      <td>2.640000</td>\n",
       "      <td>1.371150e+04</td>\n",
       "    </tr>\n",
       "    <tr>\n",
       "      <th>75%</th>\n",
       "      <td>38.100000</td>\n",
       "      <td>7.907100e+04</td>\n",
       "      <td>8.479475e+04</td>\n",
       "      <td>1.634480e+05</td>\n",
       "      <td>9368.000000</td>\n",
       "      <td>3.386450e+04</td>\n",
       "      <td>2.970000</td>\n",
       "      <td>5.113000e+04</td>\n",
       "    </tr>\n",
       "    <tr>\n",
       "      <th>max</th>\n",
       "      <td>70.500000</td>\n",
       "      <td>1.958998e+06</td>\n",
       "      <td>2.012898e+06</td>\n",
       "      <td>3.971896e+06</td>\n",
       "      <td>109089.000000</td>\n",
       "      <td>1.485425e+06</td>\n",
       "      <td>4.980000</td>\n",
       "      <td>2.177650e+06</td>\n",
       "    </tr>\n",
       "  </tbody>\n",
       "</table>\n",
       "</div>"
      ],
      "text/plain": [
       "        Median Age  Male Population  Female Population  Total Population  \\\n",
       "count  1000.000000     9.980000e+02       9.980000e+02      1.000000e+03   \n",
       "mean     35.566900     8.953580e+04       9.320766e+04      1.825231e+05   \n",
       "std       4.583388     1.375867e+05       1.422165e+05      2.794854e+05   \n",
       "min      22.900000     2.928100e+04       2.734800e+04      6.321500e+04   \n",
       "25%      32.800000     3.950400e+04       4.147500e+04      8.065300e+04   \n",
       "50%      35.300000     5.097750e+04       5.273050e+04      1.037050e+05   \n",
       "75%      38.100000     7.907100e+04       8.479475e+04      1.634480e+05   \n",
       "max      70.500000     1.958998e+06       2.012898e+06      3.971896e+06   \n",
       "\n",
       "       Number of Veterans  Foreign-born  Average Household Size         Count  \n",
       "count          996.000000  9.960000e+02              994.000000  1.000000e+03  \n",
       "mean          9095.504016  3.414385e+04                2.745392  4.799123e+04  \n",
       "std          11577.450298  8.233672e+04                0.433821  1.227271e+05  \n",
       "min            416.000000  1.058000e+03                2.000000  9.800000e+01  \n",
       "25%           3666.750000  9.202000e+03                2.440000  3.602750e+03  \n",
       "50%           5199.000000  1.845100e+04                2.640000  1.371150e+04  \n",
       "75%           9368.000000  3.386450e+04                2.970000  5.113000e+04  \n",
       "max         109089.000000  1.485425e+06                4.980000  2.177650e+06  "
      ]
     },
     "execution_count": 6,
     "metadata": {},
     "output_type": "execute_result"
    }
   ],
   "source": [
    "city_df.describe()"
   ]
  },
  {
   "cell_type": "code",
   "execution_count": 25,
   "metadata": {
    "editable": true
   },
   "outputs": [
    {
     "data": {
      "text/html": [
       "<div>\n",
       "<style scoped>\n",
       "    .dataframe tbody tr th:only-of-type {\n",
       "        vertical-align: middle;\n",
       "    }\n",
       "\n",
       "    .dataframe tbody tr th {\n",
       "        vertical-align: top;\n",
       "    }\n",
       "\n",
       "    .dataframe thead th {\n",
       "        text-align: right;\n",
       "    }\n",
       "</style>\n",
       "<table border=\"1\" class=\"dataframe\">\n",
       "  <thead>\n",
       "    <tr style=\"text-align: right;\">\n",
       "      <th></th>\n",
       "      <th>ident</th>\n",
       "      <th>type</th>\n",
       "      <th>name</th>\n",
       "      <th>elevation_ft</th>\n",
       "      <th>iso_country</th>\n",
       "      <th>iso_region</th>\n",
       "      <th>municipality</th>\n",
       "      <th>gps_code</th>\n",
       "      <th>local_code</th>\n",
       "      <th>airline</th>\n",
       "      <th>latitude</th>\n",
       "      <th>longitude</th>\n",
       "    </tr>\n",
       "  </thead>\n",
       "  <tbody>\n",
       "    <tr>\n",
       "      <th>0</th>\n",
       "      <td>00A</td>\n",
       "      <td>heliport</td>\n",
       "      <td>Total Rf Heliport</td>\n",
       "      <td>11.0</td>\n",
       "      <td>US</td>\n",
       "      <td>US-PA</td>\n",
       "      <td>Bensalem</td>\n",
       "      <td>00A</td>\n",
       "      <td>00A</td>\n",
       "      <td>A</td>\n",
       "      <td>-74.93360137939453</td>\n",
       "      <td>40.07080078125</td>\n",
       "    </tr>\n",
       "    <tr>\n",
       "      <th>1</th>\n",
       "      <td>00AA</td>\n",
       "      <td>small_airport</td>\n",
       "      <td>Aero B Ranch Airport</td>\n",
       "      <td>3435.0</td>\n",
       "      <td>US</td>\n",
       "      <td>US-KS</td>\n",
       "      <td>Leoti</td>\n",
       "      <td>00AA</td>\n",
       "      <td>00AA</td>\n",
       "      <td>AA</td>\n",
       "      <td>-101.473911</td>\n",
       "      <td>38.704022</td>\n",
       "    </tr>\n",
       "    <tr>\n",
       "      <th>2</th>\n",
       "      <td>00AK</td>\n",
       "      <td>small_airport</td>\n",
       "      <td>Lowell Field</td>\n",
       "      <td>450.0</td>\n",
       "      <td>US</td>\n",
       "      <td>US-AK</td>\n",
       "      <td>Anchor Point</td>\n",
       "      <td>00AK</td>\n",
       "      <td>00AK</td>\n",
       "      <td>AK</td>\n",
       "      <td>-151.695999146</td>\n",
       "      <td>59.94919968</td>\n",
       "    </tr>\n",
       "    <tr>\n",
       "      <th>3</th>\n",
       "      <td>00AL</td>\n",
       "      <td>small_airport</td>\n",
       "      <td>Epps Airpark</td>\n",
       "      <td>820.0</td>\n",
       "      <td>US</td>\n",
       "      <td>US-AL</td>\n",
       "      <td>Harvest</td>\n",
       "      <td>00AL</td>\n",
       "      <td>00AL</td>\n",
       "      <td>AL</td>\n",
       "      <td>-86.77030181884766</td>\n",
       "      <td>34.86479949951172</td>\n",
       "    </tr>\n",
       "    <tr>\n",
       "      <th>4</th>\n",
       "      <td>00AR</td>\n",
       "      <td>closed</td>\n",
       "      <td>Newport Hospital &amp; Clinic Heliport</td>\n",
       "      <td>237.0</td>\n",
       "      <td>US</td>\n",
       "      <td>US-AR</td>\n",
       "      <td>Newport</td>\n",
       "      <td>NaN</td>\n",
       "      <td>NaN</td>\n",
       "      <td>NaN</td>\n",
       "      <td>-91.254898</td>\n",
       "      <td>35.6087</td>\n",
       "    </tr>\n",
       "  </tbody>\n",
       "</table>\n",
       "</div>"
      ],
      "text/plain": [
       "  ident           type                                name  elevation_ft  \\\n",
       "0   00A       heliport                   Total Rf Heliport          11.0   \n",
       "1  00AA  small_airport                Aero B Ranch Airport        3435.0   \n",
       "2  00AK  small_airport                        Lowell Field         450.0   \n",
       "3  00AL  small_airport                        Epps Airpark         820.0   \n",
       "4  00AR         closed  Newport Hospital & Clinic Heliport         237.0   \n",
       "\n",
       "  iso_country iso_region  municipality gps_code local_code airline  \\\n",
       "0          US      US-PA      Bensalem      00A        00A       A   \n",
       "1          US      US-KS         Leoti     00AA       00AA      AA   \n",
       "2          US      US-AK  Anchor Point     00AK       00AK      AK   \n",
       "3          US      US-AL       Harvest     00AL       00AL      AL   \n",
       "4          US      US-AR       Newport      NaN        NaN     NaN   \n",
       "\n",
       "             latitude           longitude  \n",
       "0  -74.93360137939453      40.07080078125  \n",
       "1         -101.473911           38.704022  \n",
       "2      -151.695999146         59.94919968  \n",
       "3  -86.77030181884766   34.86479949951172  \n",
       "4          -91.254898             35.6087  "
      ]
     },
     "execution_count": 25,
     "metadata": {},
     "output_type": "execute_result"
    }
   ],
   "source": [
    "# Evaluate airports import\n",
    "airport_df.head()"
   ]
  },
  {
   "cell_type": "code",
   "execution_count": 26,
   "metadata": {
    "editable": true
   },
   "outputs": [
    {
     "data": {
      "text/html": [
       "<div>\n",
       "<style scoped>\n",
       "    .dataframe tbody tr th:only-of-type {\n",
       "        vertical-align: middle;\n",
       "    }\n",
       "\n",
       "    .dataframe tbody tr th {\n",
       "        vertical-align: top;\n",
       "    }\n",
       "\n",
       "    .dataframe thead th {\n",
       "        text-align: right;\n",
       "    }\n",
       "</style>\n",
       "<table border=\"1\" class=\"dataframe\">\n",
       "  <thead>\n",
       "    <tr style=\"text-align: right;\">\n",
       "      <th></th>\n",
       "      <th>elevation_ft</th>\n",
       "    </tr>\n",
       "  </thead>\n",
       "  <tbody>\n",
       "    <tr>\n",
       "      <th>count</th>\n",
       "      <td>993.000000</td>\n",
       "    </tr>\n",
       "    <tr>\n",
       "      <th>mean</th>\n",
       "      <td>1160.388721</td>\n",
       "    </tr>\n",
       "    <tr>\n",
       "      <th>std</th>\n",
       "      <td>1450.449105</td>\n",
       "    </tr>\n",
       "    <tr>\n",
       "      <th>min</th>\n",
       "      <td>2.000000</td>\n",
       "    </tr>\n",
       "    <tr>\n",
       "      <th>25%</th>\n",
       "      <td>280.000000</td>\n",
       "    </tr>\n",
       "    <tr>\n",
       "      <th>50%</th>\n",
       "      <td>720.000000</td>\n",
       "    </tr>\n",
       "    <tr>\n",
       "      <th>75%</th>\n",
       "      <td>1215.000000</td>\n",
       "    </tr>\n",
       "    <tr>\n",
       "      <th>max</th>\n",
       "      <td>10175.000000</td>\n",
       "    </tr>\n",
       "  </tbody>\n",
       "</table>\n",
       "</div>"
      ],
      "text/plain": [
       "       elevation_ft\n",
       "count    993.000000\n",
       "mean    1160.388721\n",
       "std     1450.449105\n",
       "min        2.000000\n",
       "25%      280.000000\n",
       "50%      720.000000\n",
       "75%     1215.000000\n",
       "max    10175.000000"
      ]
     },
     "execution_count": 26,
     "metadata": {},
     "output_type": "execute_result"
    }
   ],
   "source": [
    "airport_df.describe()"
   ]
  },
  {
   "cell_type": "markdown",
   "metadata": {
    "editable": true
   },
   "source": [
    "### Step 2: Explore and Assess the Data\n",
    "#### Explore the Data \n",
    "Identify data quality issues, like missing values, duplicate data, etc.\n",
    "\n",
    "#### Cleaning Steps\n",
    "Document steps necessary to clean the data"
   ]
  },
  {
   "cell_type": "markdown",
   "metadata": {
    "editable": true
   },
   "source": [
    "## Immigration Data\n",
    "\n",
    "Steps include:\n",
    "1. Check null count by column\n",
    "2. Check duplicated rows\n",
    "3. Check data types and update as needed\n",
    "4.  Check column names and standardize as needed (all lowercase with underscores instead of spaces)\n",
    "5.  Drop any columns that are completely empty\n",
    "6.  Check extremes, max, min, and make sure numbers make sense (do areas that have high counts in real life also have high counts in this dataset and vice versa, are averages plausible, etc.)"
   ]
  },
  {
   "cell_type": "code",
   "execution_count": 7,
   "metadata": {
    "editable": true
   },
   "outputs": [
    {
     "data": {
      "text/plain": [
       "cicid          0\n",
       "i94yr          0\n",
       "i94mon         0\n",
       "i94cit         0\n",
       "i94res         0\n",
       "i94port        0\n",
       "arrdate        0\n",
       "i94mode        1\n",
       "i94addr       28\n",
       "depdate       42\n",
       "i94bir         0\n",
       "i94visa        0\n",
       "count          0\n",
       "dtadfile       1\n",
       "visapost     941\n",
       "occup       1000\n",
       "entdepa        0\n",
       "entdepd       42\n",
       "entdepu      998\n",
       "matflag       42\n",
       "biryear        0\n",
       "dtaddto        0\n",
       "gender       190\n",
       "insnum      1000\n",
       "airline        2\n",
       "admnum         0\n",
       "fltno          1\n",
       "visatype       0\n",
       "dtype: int64"
      ]
     },
     "execution_count": 7,
     "metadata": {},
     "output_type": "execute_result"
    }
   ],
   "source": [
    "#Check nulls\n",
    "im_df.isnull().sum()"
   ]
  },
  {
   "cell_type": "code",
   "execution_count": 8,
   "metadata": {
    "editable": true
   },
   "outputs": [
    {
     "data": {
      "text/plain": [
       "0"
      ]
     },
     "execution_count": 8,
     "metadata": {},
     "output_type": "execute_result"
    }
   ],
   "source": [
    "# Check for duplicate rows\n",
    "im_df.duplicated().sum()"
   ]
  },
  {
   "cell_type": "code",
   "execution_count": 9,
   "metadata": {
    "editable": true
   },
   "outputs": [],
   "source": [
    "# Checked valid max and min values using .describe() above\n",
    "\n",
    "# Update dtypes as needed\n",
    "im_df['cicid'] = im_df['cicid'].astype(object)\n",
    "im_df['arrdate'] = pd.to_datetime(im_df['arrdate']).dt.date\n",
    "im_df['depdate'] = pd.to_datetime(im_df['depdate']).dt.date\n",
    "im_df['dtadfile'] = pd.to_datetime(im_df['dtadfile']).dt.date\n",
    "im_df['i94yr']=im_df['i94yr'].astype(int)\n",
    "im_df['i94mon']=im_df['i94mon'].astype(int)\n",
    "im_df['i94cit']=im_df['i94cit'].astype(int)\n",
    "im_df['i94res']=im_df['i94res'].astype(int)\n",
    "#im_df['i94mode']=im_df['i94mode'].astype(int)\n",
    "im_df['i94bir']=im_df['i94bir'].astype(int)\n",
    "im_df['i94visa']=im_df['i94visa'].astype(int)\n",
    "im_df['count']=im_df['count'].astype(int)\n",
    "im_df['biryear']=im_df['biryear'].astype(int)\n",
    "\n",
    "# Replace invalid values, then update remaining data type\n",
    "im_test = np.where(im_df['dtaddto']=='D/S', '01011900', im_df['dtaddto'])\n",
    "im_df['dtaddto'] = im_test\n",
    "im_df['dtaddto'] = pd.to_datetime(im_df['dtaddto'], format = '%m%d%Y').dt.date"
   ]
  },
  {
   "cell_type": "code",
   "execution_count": 10,
   "metadata": {
    "editable": true
   },
   "outputs": [],
   "source": [
    "# Drop all blank columns\n",
    "im_df = im_df.drop(columns = ['occup', 'insnum'])\n",
    "\n",
    "im_df.rename(columns={'i94bir': 'age'}, inplace=True)\n",
    "\n",
    "# Clean column names - added here because not all files may have the same formatting\n",
    "cols = list(im_df.columns)\n",
    "cols = [x.lower().replace(' ','_') for x in cols]\n",
    "\n",
    "im_df.columns = cols"
   ]
  },
  {
   "cell_type": "code",
   "execution_count": 11,
   "metadata": {
    "editable": true
   },
   "outputs": [
    {
     "data": {
      "text/plain": [
       "i94port\n",
       "NEW    312\n",
       "NYC    137\n",
       "MIA    116\n",
       "CHI     59\n",
       "LOS     56\n",
       "ATL     53\n",
       "WAS     52\n",
       "SFR     39\n",
       "PHI     25\n",
       "BOS     24\n",
       "HOU     15\n",
       "SEA     13\n",
       "FTL     13\n",
       "DET     12\n",
       "CLT     10\n",
       "TOR     10\n",
       "DAL      9\n",
       "LVG      7\n",
       "NAS      6\n",
       "ORL      6\n",
       "SPM      5\n",
       "TAM      5\n",
       "DEN      3\n",
       "NOL      2\n",
       "POO      2\n",
       "MAA      1\n",
       "OGG      1\n",
       "HHW      1\n",
       "HAM      1\n",
       "PIT      1\n",
       "SLC      1\n",
       "VCV      1\n",
       "AUS      1\n",
       "XXX      1\n",
       "Name: i94port, dtype: int64"
      ]
     },
     "execution_count": 11,
     "metadata": {},
     "output_type": "execute_result"
    }
   ],
   "source": [
    "# Quick count checks\n",
    "im_df.groupby(['i94port'])['i94port'].count().sort_values(ascending = False)"
   ]
  },
  {
   "cell_type": "code",
   "execution_count": 12,
   "metadata": {
    "editable": true
   },
   "outputs": [
    {
     "data": {
      "text/plain": [
       "i94addr\n",
       "NY    374\n",
       "FL    191\n",
       "CA     94\n",
       "IL     38\n",
       "DC     33\n",
       "NJ     30\n",
       "NV     28\n",
       "TX     24\n",
       "GA     18\n",
       "MA     16\n",
       "MI     16\n",
       "PA     12\n",
       "WA     11\n",
       "MD     11\n",
       "PR     10\n",
       "LA      9\n",
       "CT      8\n",
       "TN      7\n",
       "MO      5\n",
       "MN      4\n",
       "NH      4\n",
       "CO      4\n",
       "AL      3\n",
       "VA      3\n",
       "AZ      3\n",
       "NC      2\n",
       "OK      2\n",
       "OR      2\n",
       "WC      1\n",
       "HI      1\n",
       "IN      1\n",
       "ME      1\n",
       "NE      1\n",
       "OH      1\n",
       "RI      1\n",
       "SC      1\n",
       "UT      1\n",
       "AK      1\n",
       "Name: i94addr, dtype: int64"
      ]
     },
     "execution_count": 12,
     "metadata": {},
     "output_type": "execute_result"
    }
   ],
   "source": [
    "im_df.groupby(['i94addr'])['i94addr'].count().sort_values(ascending = False)"
   ]
  },
  {
   "cell_type": "code",
   "execution_count": 13,
   "metadata": {
    "editable": true
   },
   "outputs": [
    {
     "data": {
      "text/plain": [
       "i94visa\n",
       "2    862\n",
       "1    131\n",
       "3      7\n",
       "Name: i94visa, dtype: int64"
      ]
     },
     "execution_count": 13,
     "metadata": {},
     "output_type": "execute_result"
    }
   ],
   "source": [
    "im_df.groupby(['i94visa'])['i94visa'].count().sort_values(ascending = False)"
   ]
  },
  {
   "cell_type": "code",
   "execution_count": 14,
   "metadata": {
    "editable": true
   },
   "outputs": [
    {
     "data": {
      "text/plain": [
       "visatype\n",
       "WT    821\n",
       "WB    104\n",
       "B2     41\n",
       "B1     19\n",
       "F1      7\n",
       "I       5\n",
       "E2      3\n",
       "Name: visatype, dtype: int64"
      ]
     },
     "execution_count": 14,
     "metadata": {},
     "output_type": "execute_result"
    }
   ],
   "source": [
    "im_df.groupby(['visatype'])['visatype'].count().sort_values(ascending = False)"
   ]
  },
  {
   "cell_type": "markdown",
   "metadata": {
    "editable": true
   },
   "source": [
    "## City Data\n",
    "\n",
    "Steps include:\n",
    "1. Check null count by column\n",
    "2. Check duplicated rows\n",
    "3. Check data types and update as needed\n",
    "4.  Check column names and standardize as needed (all lowercase with underscores instead of spaces)\n",
    "5.  Drop any columns that are completely empty\n",
    "6.  Check extremes, max, min, and make sure numbers make sense (do areas that have high counts in real life also have high counts in this dataset and vice versa, are averages plausible, etc.)"
   ]
  },
  {
   "cell_type": "code",
   "execution_count": null,
   "metadata": {
    "editable": true
   },
   "outputs": [],
   "source": [
    "# Repeat for cities data\n",
    "city_df.isnull().sum()"
   ]
  },
  {
   "cell_type": "code",
   "execution_count": null,
   "metadata": {
    "editable": true
   },
   "outputs": [],
   "source": [
    "city_df.duplicated().sum()"
   ]
  },
  {
   "cell_type": "code",
   "execution_count": null,
   "metadata": {
    "editable": true
   },
   "outputs": [],
   "source": [
    "city_df.dtypes"
   ]
  },
  {
   "cell_type": "code",
   "execution_count": null,
   "metadata": {
    "editable": true
   },
   "outputs": [],
   "source": [
    "city_df.groupby(['State'])['Total Population'].sum().sort_values(ascending = False)"
   ]
  },
  {
   "cell_type": "code",
   "execution_count": 10,
   "metadata": {
    "editable": true
   },
   "outputs": [
    {
     "data": {
      "text/html": [
       "<div>\n",
       "<style scoped>\n",
       "    .dataframe tbody tr th:only-of-type {\n",
       "        vertical-align: middle;\n",
       "    }\n",
       "\n",
       "    .dataframe tbody tr th {\n",
       "        vertical-align: top;\n",
       "    }\n",
       "\n",
       "    .dataframe thead th {\n",
       "        text-align: right;\n",
       "    }\n",
       "</style>\n",
       "<table border=\"1\" class=\"dataframe\">\n",
       "  <thead>\n",
       "    <tr style=\"text-align: right;\">\n",
       "      <th></th>\n",
       "      <th>State</th>\n",
       "      <th>Female Population</th>\n",
       "      <th>Male Population</th>\n",
       "      <th>Total Population</th>\n",
       "      <th>M_F Population</th>\n",
       "      <th>Pop_Diff</th>\n",
       "    </tr>\n",
       "  </thead>\n",
       "  <tbody>\n",
       "    <tr>\n",
       "      <th>9</th>\n",
       "      <td>Florida</td>\n",
       "      <td>5859794</td>\n",
       "      <td>5387030</td>\n",
       "      <td>11392004</td>\n",
       "      <td>11246824.0</td>\n",
       "      <td>145180.0</td>\n",
       "    </tr>\n",
       "  </tbody>\n",
       "</table>\n",
       "</div>"
      ],
      "text/plain": [
       "     State  Female Population  Male Population  Total Population  \\\n",
       "9  Florida            5859794          5387030          11392004   \n",
       "\n",
       "   M_F Population  Pop_Diff  \n",
       "9      11246824.0  145180.0  "
      ]
     },
     "execution_count": 10,
     "metadata": {},
     "output_type": "execute_result"
    }
   ],
   "source": [
    "city_df['pop_test'] = city_df['Male Population'] + city_df['Female Population']\n",
    "\n",
    "state_level_total = city_df.groupby(['State'])['Total Population'].sum()#.sort_values(ascending = False)\n",
    "state_level_male = city_df.groupby(['State'])['Male Population'].sum()\n",
    "state_level_female = city_df.groupby(['State'])['Female Population'].sum()\n",
    "\n",
    "state_agg = state_level_female.to_frame().join(state_level_male.to_frame())\n",
    "state_agg = state_agg.join(state_level_total.to_frame()).reset_index()\n",
    "\n",
    "state_agg['M_F Population'] = state_agg['Female Population'] + state_agg['Male Population'].astype(int)\n",
    "state_agg['Female Population'] = state_agg['Female Population'].astype(int)\n",
    "state_agg['Male Population'] = state_agg['Male Population'].astype(int)\n",
    "\n",
    "state_agg['Pop_Diff'] = state_agg['Total Population'] - state_agg['M_F Population']\n",
    "\n",
    "state_agg[state_agg['Pop_Diff'] > 0]"
   ]
  },
  {
   "cell_type": "code",
   "execution_count": 15,
   "metadata": {
    "editable": true
   },
   "outputs": [],
   "source": [
    "# Clean column names\n",
    "cols = list(city_df.columns)\n",
    "cols = [x.lower().replace(' ','_') for x in cols]\n",
    "\n",
    "city_df.columns = cols"
   ]
  },
  {
   "cell_type": "markdown",
   "metadata": {
    "editable": true
   },
   "source": [
    "## Airport Data\n",
    "\n",
    "Steps include:\n",
    "1. Check null count by column\n",
    "2. Check duplicated rows\n",
    "3. Check data types and update as needed\n",
    "4.  Check column names and standardize as needed (all lowercase with underscores instead of spaces)\n",
    "5.  Drop any columns that are completely empty\n",
    "6.  Check extremes, max, min, and make sure numbers make sense (do areas that have high counts in real life also have high counts in this dataset and vice versa, are averages plausible, etc.)\n",
    "7.  Split coordinates into latitude and longitude columns to make it easier to validate individually against other datasets."
   ]
  },
  {
   "cell_type": "code",
   "execution_count": null,
   "metadata": {
    "editable": true
   },
   "outputs": [],
   "source": [
    "# Repeat for airports\n",
    "airport_df.isnull().sum()"
   ]
  },
  {
   "cell_type": "code",
   "execution_count": null,
   "metadata": {
    "editable": true
   },
   "outputs": [],
   "source": [
    "airport_df.duplicated().sum()"
   ]
  },
  {
   "cell_type": "code",
   "execution_count": null,
   "metadata": {
    "editable": true
   },
   "outputs": [],
   "source": [
    "airport_df.dtypes"
   ]
  },
  {
   "cell_type": "code",
   "execution_count": null,
   "metadata": {
    "editable": true
   },
   "outputs": [],
   "source": [
    "airport_df.head()"
   ]
  },
  {
   "cell_type": "code",
   "execution_count": null,
   "metadata": {
    "editable": true
   },
   "outputs": [],
   "source": [
    "airport_df.groupby(['type'])['type'].value_counts().sort_values(ascending = False)"
   ]
  },
  {
   "cell_type": "code",
   "execution_count": 16,
   "metadata": {
    "editable": true
   },
   "outputs": [],
   "source": [
    "airport_df['airline'] = airport_df['local_code'].str[2:]\n",
    "airport_df[['latitude', 'longitude']] = airport_df['coordinates'].str.split(\",\", expand = True).rename(columns = {0: 'latitude', 1: 'longitude'})"
   ]
  },
  {
   "cell_type": "code",
   "execution_count": 17,
   "metadata": {
    "editable": true
   },
   "outputs": [],
   "source": [
    "airport_df = airport_df.drop(columns = ['coordinates', 'continent', 'iata_code'])"
   ]
  },
  {
   "cell_type": "markdown",
   "metadata": {
    "editable": true
   },
   "source": [
    "## Date Dimension Table\n",
    "\n",
    "### Create dataframe to be used for date and time dimension table by:\n",
    "1. Create master date column to match date fields on\n",
    "2. Create components from each date to be stored as separate columns"
   ]
  },
  {
   "cell_type": "code",
   "execution_count": 18,
   "metadata": {
    "editable": true
   },
   "outputs": [],
   "source": [
    "# adapted from here: https://stackoverflow.com/questions/34898525/generate-list-of-months-between-interval-in-python\n",
    "\n",
    "dates = [\"1900-01-01\", \"2020-01-01\"]\n",
    "\n",
    "def get_all_dates(dates):\n",
    "    # format dates provided, assign them start and end signifiers\n",
    "    start, end = [datetime.strptime(_, \"%Y-%m-%d\") for _ in dates]\n",
    "    # return ordered dictionary of all days in between the start and end dates\n",
    "    return OrderedDict(((start + timedelta(_)) \\\n",
    "                        .strftime(r\"%Y-%m-%d\"), None) for _ in range((end - start).days)).keys()\n",
    "\n",
    "dates_all = get_all_dates(dates)#.rename(columns = '')\n",
    "\n",
    "dates_all = pd.DataFrame(list(dates_all)).rename(columns = {0: 'dates_master'})\n",
    "dates_all['dates_master'] = pd.to_datetime(dates_all['dates_master'])\n",
    "dates_all['month'] = dates_all['dates_master'].dt.month\n",
    "dates_all['day'] = dates_all['dates_master'].dt.day\n",
    "dates_all['year'] = dates_all['dates_master'].dt.year\n",
    "dates_all['weekday'] = dates_all['dates_master'].dt.weekday\n",
    "dates_all['week'] = dates_all['dates_master'].dt.week\n",
    "dates_all['dates_master'] = (dates_all['dates_master'].dt.date).astype(object)"
   ]
  },
  {
   "cell_type": "code",
   "execution_count": null,
   "metadata": {
    "editable": true
   },
   "outputs": [],
   "source": [
    "# Test joins\n",
    "test_df = pd.merge(im_df, dates_all, left_on = 'dtaddto', right_on = 'dates_master')\n",
    "test_df.head()"
   ]
  },
  {
   "cell_type": "code",
   "execution_count": null,
   "metadata": {
    "editable": true
   },
   "outputs": [],
   "source": [
    "test_df = pd.merge(im_df, airport_df, left_on = 'airline', right_on = 'airline')\n",
    "#test_df[test_df['airline'] != 'None'].head()\n",
    "\n",
    "test_df.groupby(['airline'])['airline'].value_counts().sort_values(ascending = False)"
   ]
  },
  {
   "cell_type": "code",
   "execution_count": null,
   "metadata": {
    "editable": true
   },
   "outputs": [],
   "source": [
    "test_df = pd.merge(city_df, airport_df, how='inner', left_on='city', right_on='municipality')\n",
    "#test_df.head()\n",
    "#test_df.groupby(['city'])['municipality'].value_counts().sort_values(ascending = False)"
   ]
  },
  {
   "cell_type": "markdown",
   "metadata": {
    "editable": true
   },
   "source": [
    "### Step 3: Define the Data Model\n",
    "#### 3.1 Conceptual Data Model\n",
    "Map out the conceptual data model and explain why you chose that model"
   ]
  },
  {
   "cell_type": "markdown",
   "metadata": {
    "editable": true
   },
   "source": [
    "My goal of the data model is to create a STAR schema database for these files and the corresponding pipeline needed to import, clean, and create the tables.  My assumption is the data of primary interest relates to those immigrating on I9 visas.  Accordingly, I designed the below structure around this assumption.\n",
    "\n",
    "### Fact Table\n",
    "- immigrant I9 data\n",
    "\n",
    "### Dimension Tables\n",
    "- master dates table\n",
    "- airport table\n",
    "- city table\n",
    "- state table"
   ]
  },
  {
   "cell_type": "code",
   "execution_count": 19,
   "metadata": {
    "editable": true
   },
   "outputs": [],
   "source": [
    "# Create the conceptual fact table schema in Spark\n",
    "im_Schema = StructType([StructField(\"cicid\", StringType(), True), \\\n",
    "                        StructField(\"i94yr\", IntegerType(), True), \\\n",
    "                        StructField(\"i94mon\", IntegerType(), True), \\\n",
    "                        StructField(\"i94cit\", IntegerType(), True), \\\n",
    "                        StructField(\"i94res\", StringType(), True), \\\n",
    "                        StructField(\"i94port\", StringType(), True), \\\n",
    "                        StructField(\"arrdate\", DateType(), True), \\\n",
    "                        StructField(\"i94mode\", StringType(), True), \\\n",
    "                        StructField(\"i94addr\", StringType(), True), \\\n",
    "                        StructField(\"depdate\", StringType(), True), \\\n",
    "                        StructField(\"i94bir\", IntegerType(), True), \\\n",
    "                        StructField(\"i94visa\", IntegerType(), True), \\\n",
    "                        StructField(\"count\", IntegerType(), True), \\\n",
    "                        StructField(\"dtadfile\", StringType(), True), \\\n",
    "                        StructField(\"visapost\", StringType(), True), \\\n",
    "                        StructField(\"entdepa\", StringType(), True), \\\n",
    "                        StructField(\"entdepd\", StringType(), True), \\\n",
    "                        StructField(\"entdepu\", StringType(), True), \\\n",
    "                        StructField(\"matflag\", StringType(), True), \\\n",
    "                        StructField(\"biryear\", IntegerType(), True), \\\n",
    "                        StructField(\"dtaddto\", DateType(), True), \\\n",
    "                        StructField(\"gender\", StringType(), True), \\\n",
    "                        StructField(\"airline\", StringType(), True), \\\n",
    "                        StructField(\"admnum\", DoubleType(), True), \\\n",
    "                        StructField(\"fltno\", StringType(), True), \\\n",
    "                        StructField(\"visatype\", StringType(), True)])\n",
    "\n",
    "spark_im_df = spark.createDataFrame(im_df,schema=im_Schema)\n",
    "#spark_im_df.write.mode(\"append\").parquet(\"/results/fact_immigration.parquet\")"
   ]
  },
  {
   "cell_type": "code",
   "execution_count": 41,
   "metadata": {
    "editable": true
   },
   "outputs": [],
   "source": [
    "# Create the conceptual date dimension table\n",
    "dates_Schema = StructType([StructField(\"dates_master\", StringType(), True), \\\n",
    "                        StructField(\"month\", IntegerType(), True), \\\n",
    "                        StructField(\"day\", IntegerType(), True), \\\n",
    "                        StructField(\"year\", IntegerType(), True), \\\n",
    "                        StructField(\"weekday\", StringType(), True), \\\n",
    "                        StructField(\"week\", StringType(), True)])\n",
    "\n",
    "spark_dates_df = spark.createDataFrame(dates_all,schema=dates_Schema)\n",
    "\n",
    "#write table\n",
    "spark_dates_df.write.mode(\"append\").parquet(\"/results/dim_dates.parquet\")"
   ]
  },
  {
   "cell_type": "code",
   "execution_count": 42,
   "metadata": {
    "editable": true
   },
   "outputs": [],
   "source": [
    "# Create the conceptual airlines dimension table\n",
    "airport_Schema = StructType([StructField(\"ident\", StringType(), True), \\\n",
    "                        StructField(\"type\", StringType(), True), \\\n",
    "                        StructField(\"name\", StringType(), True), \\\n",
    "                        StructField(\"elevation_ft\", DoubleType(), True), \\\n",
    "                        StructField(\"iso_country\", StringType(), True), \\\n",
    "                        StructField(\"iso_region\", StringType(), True),\\\n",
    "                        StructField(\"municipality\", StringType(), True), \\\n",
    "                        StructField(\"gps_code\", StringType(), True), \\\n",
    "                        StructField(\"local_code\", StringType(), True), \\\n",
    "                        StructField(\"latitude\", StringType(), True), \\\n",
    "                        StructField(\"longitude\", StringType(), True), \\\n",
    "                        StructField(\"airline\", StringType(), True)])\n",
    "\n",
    "spark_airport_df = spark.createDataFrame(airport_df,schema=airport_Schema)\n",
    "\n",
    "spark_airport_df.write.mode(\"append\").parquet(\"/results/dim_airport.parquet\")"
   ]
  },
  {
   "cell_type": "code",
   "execution_count": 20,
   "metadata": {
    "editable": true
   },
   "outputs": [
    {
     "data": {
      "text/html": [
       "<div>\n",
       "<style scoped>\n",
       "    .dataframe tbody tr th:only-of-type {\n",
       "        vertical-align: middle;\n",
       "    }\n",
       "\n",
       "    .dataframe tbody tr th {\n",
       "        vertical-align: top;\n",
       "    }\n",
       "\n",
       "    .dataframe thead th {\n",
       "        text-align: right;\n",
       "    }\n",
       "</style>\n",
       "<table border=\"1\" class=\"dataframe\">\n",
       "  <thead>\n",
       "    <tr style=\"text-align: right;\">\n",
       "      <th></th>\n",
       "      <th>city</th>\n",
       "      <th>state</th>\n",
       "      <th>median_age</th>\n",
       "      <th>male_population</th>\n",
       "      <th>female_population</th>\n",
       "      <th>total_population</th>\n",
       "      <th>number_of_veterans</th>\n",
       "      <th>foreign-born</th>\n",
       "      <th>average_household_size</th>\n",
       "      <th>state_code</th>\n",
       "      <th>race</th>\n",
       "      <th>count</th>\n",
       "    </tr>\n",
       "  </thead>\n",
       "  <tbody>\n",
       "    <tr>\n",
       "      <th>0</th>\n",
       "      <td>Silver Spring</td>\n",
       "      <td>Maryland</td>\n",
       "      <td>33.8</td>\n",
       "      <td>40601.0</td>\n",
       "      <td>41862.0</td>\n",
       "      <td>82463</td>\n",
       "      <td>1562.0</td>\n",
       "      <td>30908.0</td>\n",
       "      <td>2.60</td>\n",
       "      <td>MD</td>\n",
       "      <td>Hispanic or Latino</td>\n",
       "      <td>25924</td>\n",
       "    </tr>\n",
       "    <tr>\n",
       "      <th>1</th>\n",
       "      <td>Quincy</td>\n",
       "      <td>Massachusetts</td>\n",
       "      <td>41.0</td>\n",
       "      <td>44129.0</td>\n",
       "      <td>49500.0</td>\n",
       "      <td>93629</td>\n",
       "      <td>4147.0</td>\n",
       "      <td>32935.0</td>\n",
       "      <td>2.39</td>\n",
       "      <td>MA</td>\n",
       "      <td>White</td>\n",
       "      <td>58723</td>\n",
       "    </tr>\n",
       "    <tr>\n",
       "      <th>2</th>\n",
       "      <td>Hoover</td>\n",
       "      <td>Alabama</td>\n",
       "      <td>38.5</td>\n",
       "      <td>38040.0</td>\n",
       "      <td>46799.0</td>\n",
       "      <td>84839</td>\n",
       "      <td>4819.0</td>\n",
       "      <td>8229.0</td>\n",
       "      <td>2.58</td>\n",
       "      <td>AL</td>\n",
       "      <td>Asian</td>\n",
       "      <td>4759</td>\n",
       "    </tr>\n",
       "    <tr>\n",
       "      <th>3</th>\n",
       "      <td>Rancho Cucamonga</td>\n",
       "      <td>California</td>\n",
       "      <td>34.5</td>\n",
       "      <td>88127.0</td>\n",
       "      <td>87105.0</td>\n",
       "      <td>175232</td>\n",
       "      <td>5821.0</td>\n",
       "      <td>33878.0</td>\n",
       "      <td>3.18</td>\n",
       "      <td>CA</td>\n",
       "      <td>Black or African-American</td>\n",
       "      <td>24437</td>\n",
       "    </tr>\n",
       "    <tr>\n",
       "      <th>4</th>\n",
       "      <td>Newark</td>\n",
       "      <td>New Jersey</td>\n",
       "      <td>34.6</td>\n",
       "      <td>138040.0</td>\n",
       "      <td>143873.0</td>\n",
       "      <td>281913</td>\n",
       "      <td>5829.0</td>\n",
       "      <td>86253.0</td>\n",
       "      <td>2.73</td>\n",
       "      <td>NJ</td>\n",
       "      <td>White</td>\n",
       "      <td>76402</td>\n",
       "    </tr>\n",
       "  </tbody>\n",
       "</table>\n",
       "</div>"
      ],
      "text/plain": [
       "               city          state  median_age  male_population  \\\n",
       "0     Silver Spring       Maryland        33.8          40601.0   \n",
       "1            Quincy  Massachusetts        41.0          44129.0   \n",
       "2            Hoover        Alabama        38.5          38040.0   \n",
       "3  Rancho Cucamonga     California        34.5          88127.0   \n",
       "4            Newark     New Jersey        34.6         138040.0   \n",
       "\n",
       "   female_population  total_population  number_of_veterans  foreign-born  \\\n",
       "0            41862.0             82463              1562.0       30908.0   \n",
       "1            49500.0             93629              4147.0       32935.0   \n",
       "2            46799.0             84839              4819.0        8229.0   \n",
       "3            87105.0            175232              5821.0       33878.0   \n",
       "4           143873.0            281913              5829.0       86253.0   \n",
       "\n",
       "   average_household_size state_code                       race  count  \n",
       "0                    2.60         MD         Hispanic or Latino  25924  \n",
       "1                    2.39         MA                      White  58723  \n",
       "2                    2.58         AL                      Asian   4759  \n",
       "3                    3.18         CA  Black or African-American  24437  \n",
       "4                    2.73         NJ                      White  76402  "
      ]
     },
     "execution_count": 20,
     "metadata": {},
     "output_type": "execute_result"
    }
   ],
   "source": [
    "city_df.head()"
   ]
  },
  {
   "cell_type": "code",
   "execution_count": 24,
   "metadata": {
    "editable": true
   },
   "outputs": [],
   "source": [
    "geo_Schema = StructType([StructField(\"city\", StringType(), True), \\\n",
    "                        StructField(\"state\", StringType(), True), \\\n",
    "                        StructField(\"median_age\", DoubleType(), True), \\\n",
    "                        StructField(\"male_population\", DoubleType(), True), \\\n",
    "                        StructField(\"female_population\", DoubleType(), True), \\\n",
    "                        StructField(\"total_population\", IntegerType(), True), \\\n",
    "                        StructField(\"number_of_veterans\", DoubleType(), True), \\\n",
    "                        StructField(\"foreign_born\", DoubleType(), True), \\\n",
    "                        StructField(\"average_household_size\", DoubleType(), True), \\\n",
    "                        StructField(\"state_code\", StringType(), True), \\\n",
    "                        StructField(\"race\", StringType(), True), \\\n",
    "                        StructField(\"count\", IntegerType(), True)])\n",
    "\n",
    "spark_city_df = spark.createDataFrame(city_df,schema=geo_Schema)\n",
    "\n",
    "spark_city_df.write.mode(\"append\").parquet(\"/results/dim_geo.parquet\")"
   ]
  },
  {
   "cell_type": "markdown",
   "metadata": {
    "editable": true
   },
   "source": [
    "# Reference Capstone_Modularized.ipynb for remaining steps"
   ]
  }
 ],
 "metadata": {
  "kernelspec": {
   "display_name": "Python 3",
   "language": "python",
   "name": "python3"
  },
  "language_info": {
   "codemirror_mode": {
    "name": "ipython",
    "version": 3
   },
   "file_extension": ".py",
   "mimetype": "text/x-python",
   "name": "python",
   "nbconvert_exporter": "python",
   "pygments_lexer": "ipython3",
   "version": "3.6.3"
  }
 },
 "nbformat": 4,
 "nbformat_minor": 4
}
